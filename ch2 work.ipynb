{
 "cells": [
  {
   "cell_type": "markdown",
   "id": "cf483fc0",
   "metadata": {},
   "source": [
    "# Chapter 2 Exercises"
   ]
  },
  {
   "cell_type": "markdown",
   "id": "e445f222",
   "metadata": {},
   "source": [
    "## Algorithim Workbench - Number 12\n",
    "\n",
    "Predicting the output of a print function"
   ]
  },
  {
   "cell_type": "code",
   "execution_count": 1,
   "id": "16927832",
   "metadata": {},
   "outputs": [
    {
     "name": "stdout",
     "output_type": "stream",
     "text": [
      "George@John@Paul@Ringo\n"
     ]
    }
   ],
   "source": [
    "print('George','John','Paul','Ringo',sep='@')"
   ]
  },
  {
   "cell_type": "markdown",
   "id": "828a1011",
   "metadata": {},
   "source": [
    "This is my prediction for the print function above:\n",
    "\"George@John@Paul@Ringo\""
   ]
  },
  {
   "cell_type": "markdown",
   "id": "cc2b8660",
   "metadata": {},
   "source": [
    "# Programming Exercises - Number 1\n",
    "Displaying personal (fake) information using the \"print\" function"
   ]
  },
  {
   "cell_type": "code",
   "execution_count": 4,
   "id": "e076e681",
   "metadata": {},
   "outputs": [
    {
     "name": "stdout",
     "output_type": "stream",
     "text": [
      "Name: John Doe\n"
     ]
    }
   ],
   "source": [
    "print('Name: John Doe')"
   ]
  },
  {
   "cell_type": "code",
   "execution_count": 5,
   "id": "cd3f39d3",
   "metadata": {},
   "outputs": [
    {
     "name": "stdout",
     "output_type": "stream",
     "text": [
      "Address: 1234 Spartan Ave East Lansing MI 48823\n"
     ]
    }
   ],
   "source": [
    "print('Address: 1234 Spartan Ave','East Lansing','MI','48823')"
   ]
  },
  {
   "cell_type": "code",
   "execution_count": 6,
   "id": "00b65c64",
   "metadata": {},
   "outputs": [
    {
     "name": "stdout",
     "output_type": "stream",
     "text": [
      "Phone Number: 678-999-8212\n"
     ]
    }
   ],
   "source": [
    "print('Phone Number: 678-999-8212')"
   ]
  },
  {
   "cell_type": "code",
   "execution_count": 7,
   "id": "5284d7c8",
   "metadata": {},
   "outputs": [
    {
     "name": "stdout",
     "output_type": "stream",
     "text": [
      "College Major: Theater\n"
     ]
    }
   ],
   "source": [
    "print('College Major: Theater')"
   ]
  },
  {
   "cell_type": "markdown",
   "id": "6d27ebf9",
   "metadata": {},
   "source": [
    "# \"Planting Grapevines\"\n",
    "Write a program that can calculate how many grapevines to plant in a row"
   ]
  },
  {
   "cell_type": "markdown",
   "id": "95cb0d68",
   "metadata": {},
   "source": [
    "V = Number of grapevines that will fit in a row\n",
    "R = Length of the row in feet\n",
    "E = Amount of space in feet\n",
    "S = Space between vines in feet"
   ]
  },
  {
   "cell_type": "code",
   "execution_count": 30,
   "id": "e7225d10",
   "metadata": {},
   "outputs": [
    {
     "name": "stdout",
     "output_type": "stream",
     "text": [
      "Enter the length of the row in feet:1000\n",
      "Enter the amount of space used by and end-post assembly:20\n",
      "Enter amount of space between vines:1\n"
     ]
    }
   ],
   "source": [
    "R = float(input('Enter the length of the row in feet:'))\n",
    "E = float(input('Enter the amount of space used by and end-post assembly:'))\n",
    "S = float(input('Enter amount of space between vines:'))"
   ]
  },
  {
   "cell_type": "code",
   "execution_count": 31,
   "id": "1e7f0c75",
   "metadata": {},
   "outputs": [],
   "source": [
    "V=(R-(2*E))/S"
   ]
  },
  {
   "cell_type": "code",
   "execution_count": 32,
   "id": "236eb975",
   "metadata": {},
   "outputs": [
    {
     "name": "stdout",
     "output_type": "stream",
     "text": [
      "Number of grape vines that will fit in a row =  960.0\n"
     ]
    }
   ],
   "source": [
    "print('Number of grape vines that will fit in a row = ',V)"
   ]
  },
  {
   "cell_type": "code",
   "execution_count": null,
   "id": "31a10350",
   "metadata": {},
   "outputs": [],
   "source": []
  }
 ],
 "metadata": {
  "kernelspec": {
   "display_name": "Python 3 (ipykernel)",
   "language": "python",
   "name": "python3"
  },
  "language_info": {
   "codemirror_mode": {
    "name": "ipython",
    "version": 3
   },
   "file_extension": ".py",
   "mimetype": "text/x-python",
   "name": "python",
   "nbconvert_exporter": "python",
   "pygments_lexer": "ipython3",
   "version": "3.11.5"
  }
 },
 "nbformat": 4,
 "nbformat_minor": 5
}
