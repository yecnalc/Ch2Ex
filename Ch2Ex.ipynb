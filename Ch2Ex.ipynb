{
 "cells": [
  {
   "cell_type": "markdown",
   "id": "6f4b1e1c",
   "metadata": {},
   "source": [
    "# Chapter 2 Exercises"
   ]
  },
  {
   "cell_type": "markdown",
   "id": "ea561fa2",
   "metadata": {},
   "source": [
    "## Algorithim Workbench - Number 12\n",
    "\n",
    "Predicting the output of a print function"
   ]
  },
  {
   "cell_type": "code",
   "execution_count": 1,
   "id": "b80aa9f8",
   "metadata": {},
   "outputs": [
    {
     "name": "stdout",
     "output_type": "stream",
     "text": [
      "George@John@Paul@Ringo\n"
     ]
    }
   ],
   "source": [
    "print('George','John','Paul','Ringo',sep='@')"
   ]
  },
  {
   "cell_type": "markdown",
   "id": "d2b4c873",
   "metadata": {},
   "source": [
    "This is my prediction for the print function above:\n",
    "\"George@John@Paul@Ringo\""
   ]
  },
  {
   "cell_type": "code",
   "execution_count": null,
   "id": "b57ac4cf",
   "metadata": {},
   "outputs": [],
   "source": []
  }
 ],
 "metadata": {
  "kernelspec": {
   "display_name": "Python 3 (ipykernel)",
   "language": "python",
   "name": "python3"
  },
  "language_info": {
   "codemirror_mode": {
    "name": "ipython",
    "version": 3
   },
   "file_extension": ".py",
   "mimetype": "text/x-python",
   "name": "python",
   "nbconvert_exporter": "python",
   "pygments_lexer": "ipython3",
   "version": "3.11.5"
  }
 },
 "nbformat": 4,
 "nbformat_minor": 5
}
