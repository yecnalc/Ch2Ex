{
 "cells": [
  {
   "cell_type": "markdown",
   "id": "a8388f46",
   "metadata": {},
   "source": [
    "# Chapter 2 Exercises"
   ]
  },
  {
   "cell_type": "markdown",
   "id": "b30cadca",
   "metadata": {},
   "source": [
    "## Algorithim Workbench - Number 12\n",
    "\n",
    "Predicting the output of a print function"
   ]
  },
  {
   "cell_type": "code",
   "execution_count": 1,
   "id": "e0ad628d",
   "metadata": {},
   "outputs": [
    {
     "name": "stdout",
     "output_type": "stream",
     "text": [
      "George@John@Paul@Ringo\n"
     ]
    }
   ],
   "source": [
    "print('George','John','Paul','Ringo',sep='@')"
   ]
  },
  {
   "cell_type": "markdown",
   "id": "c565629b",
   "metadata": {},
   "source": [
    "This is my prediction for the print function above:\n",
    "\"George@John@Paul@Ringo\""
   ]
  },
  {
   "cell_type": "markdown",
   "id": "b1d33af3",
   "metadata": {},
   "source": [
    "# Programming Exercises - Number 1\n",
    "Displaying personal (fake) information using the \"print\" function"
   ]
  },
  {
   "cell_type": "code",
   "execution_count": 4,
   "id": "a4521e63",
   "metadata": {},
   "outputs": [
    {
     "name": "stdout",
     "output_type": "stream",
     "text": [
      "Name: John Doe\n"
     ]
    }
   ],
   "source": [
    "print('Name: John Doe')"
   ]
  },
  {
   "cell_type": "markdown",
   "id": "c95216ea",
   "metadata": {},
   "source": [
    "For this exercise, I am simply using the print command to display personal information"
   ]
  },
  {
   "cell_type": "code",
   "execution_count": 5,
   "id": "48127fb9",
   "metadata": {},
   "outputs": [
    {
     "name": "stdout",
     "output_type": "stream",
     "text": [
      "Address: 1234 Spartan Ave East Lansing MI 48823\n"
     ]
    }
   ],
   "source": [
    "print('Address: 1234 Spartan Ave','East Lansing','MI','48823')"
   ]
  },
  {
   "cell_type": "code",
   "execution_count": 6,
   "id": "8fbac73a",
   "metadata": {},
   "outputs": [
    {
     "name": "stdout",
     "output_type": "stream",
     "text": [
      "Phone Number: 678-999-8212\n"
     ]
    }
   ],
   "source": [
    "print('Phone Number: 678-999-8212')"
   ]
  },
  {
   "cell_type": "code",
   "execution_count": 7,
   "id": "acd9f1a1",
   "metadata": {},
   "outputs": [
    {
     "name": "stdout",
     "output_type": "stream",
     "text": [
      "College Major: Theater\n"
     ]
    }
   ],
   "source": [
    "print('College Major: Theater')"
   ]
  },
  {
   "cell_type": "markdown",
   "id": "1148b5f5",
   "metadata": {},
   "source": [
    "# \"Planting Grapevines\"\n",
    "Write a program that can calculate how many grapevines to plant in a row"
   ]
  },
  {
   "cell_type": "markdown",
   "id": "36e3cf75",
   "metadata": {},
   "source": [
    "V = Number of grapevines that will fit in a row\n",
    "R = Length of the row in feet\n",
    "E = Amount of space in feet\n",
    "S = Space between vines in feet"
   ]
  },
  {
   "cell_type": "markdown",
   "id": "b941aeb2",
   "metadata": {},
   "source": [
    "After browsing the textbook, I was able to figure out how to start the layout of the code"
   ]
  },
  {
   "cell_type": "code",
   "execution_count": 30,
   "id": "34f1ad97",
   "metadata": {},
   "outputs": [
    {
     "name": "stdout",
     "output_type": "stream",
     "text": [
      "Enter the length of the row in feet:1000\n",
      "Enter the amount of space used by and end-post assembly:20\n",
      "Enter amount of space between vines:1\n"
     ]
    }
   ],
   "source": [
    "R = float(input('Enter the length of the row in feet:'))\n",
    "E = float(input('Enter the amount of space used by and end-post assembly:'))\n",
    "S = float(input('Enter amount of space between vines:'))"
   ]
  },
  {
   "cell_type": "markdown",
   "id": "a030d67e",
   "metadata": {},
   "source": [
    "After writing all this down, I looked back to the textbook to help me figure out which way to set up this equation I needed"
   ]
  },
  {
   "cell_type": "code",
   "execution_count": 31,
   "id": "bf01cbb7",
   "metadata": {},
   "outputs": [],
   "source": [
    "V=(R-(2*E))/S"
   ]
  },
  {
   "cell_type": "markdown",
   "id": "89cc0dca",
   "metadata": {},
   "source": [
    "Finally, I was able to write a print command that would display the answer"
   ]
  },
  {
   "cell_type": "code",
   "execution_count": 32,
   "id": "14ff8104",
   "metadata": {},
   "outputs": [
    {
     "name": "stdout",
     "output_type": "stream",
     "text": [
      "Number of grape vines that will fit in a row =  960.0\n"
     ]
    }
   ],
   "source": [
    "print('Number of grape vines that will fit in a row = ',V)"
   ]
  },
  {
   "cell_type": "markdown",
   "id": "451e4b59",
   "metadata": {},
   "source": [
    "With the example info I put in the first string of code, I was able to get an answer!"
   ]
  },
  {
   "cell_type": "code",
   "execution_count": null,
   "id": "9de227b4",
   "metadata": {},
   "outputs": [],
   "source": []
  }
 ],
 "metadata": {
  "kernelspec": {
   "display_name": "Python 3 (ipykernel)",
   "language": "python",
   "name": "python3"
  },
  "language_info": {
   "codemirror_mode": {
    "name": "ipython",
    "version": 3
   },
   "file_extension": ".py",
   "mimetype": "text/x-python",
   "name": "python",
   "nbconvert_exporter": "python",
   "pygments_lexer": "ipython3",
   "version": "3.11.5"
  }
 },
 "nbformat": 4,
 "nbformat_minor": 5
}
